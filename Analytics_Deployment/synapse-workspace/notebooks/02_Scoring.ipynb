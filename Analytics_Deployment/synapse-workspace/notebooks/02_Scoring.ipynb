{
  "cells": [
    {
      "cell_type": "markdown",
      "source": [
        "Copyright (c) Microsoft Corporation.\r\n",
        "Licensed under the MIT license."
      ],
      "metadata": {
        "nteract": {
          "transient": {
            "deleting": false
          }
        }
      }
    },
    {
      "cell_type": "markdown",
      "source": [
        "## Model Scoring\n",
        "Load data and generate forecast with trained model:\n",
        "\n",
        "1. Define variables\n",
        "2. Connect to AML\n",
        "3. Retrieve Model and Data\n",
        "4. Score on data\n",
        "5. Store results"
      ],
      "metadata": {}
    },
    {
      "cell_type": "code",
      "source": [
        "from azureml.core import  Workspace, Model\n",
        "import pickle\n",
        "from pyspark.sql import functions as F"
      ],
      "outputs": [],
      "execution_count": null,
      "metadata": {}
    },
    {
      "cell_type": "markdown",
      "source": [
        "## Define variables\n"
      ],
      "metadata": {}
    },
    {
      "cell_type": "code",
      "source": [
        "# Define Dataset name and Azure Storage path\n",
        "subscription_id = \"\"\n",
        "resource_group = \"\"\n",
        "workspace_name = \"\"\n",
        "model_name = \"commodity-price-forecast-Best\"\n",
        "table_input = \"default.test\"\n",
        "data_lake_account_name = \"\"\n",
        "file_system_name = \"\"\n",
        "scored_data_path = \"abfss://%s@%s.dfs.core.windows.net/Result/Scored\" % (file_system_name, data_lake_account_name)\n"
      ],
      "outputs": [],
      "execution_count": null,
      "metadata": {
        "tags": [
          "parameters"
        ]
      }
    },
    {
      "cell_type": "markdown",
      "source": [
        "## Connect to AML\n"
      ],
      "metadata": {}
    },
    {
      "cell_type": "code",
      "source": [
        "# Connect to Azure ML workspace\n",
        "ws = Workspace(subscription_id = subscription_id, resource_group = resource_group, workspace_name = workspace_name)"
      ],
      "outputs": [],
      "execution_count": null,
      "metadata": {}
    },
    {
      "cell_type": "markdown",
      "source": [
        "## Retrieve Model and Data\n"
      ],
      "metadata": {}
    },
    {
      "cell_type": "code",
      "source": [
        "# Retrieve trained model\n",
        "model_path = Model(ws,model_name).download(exist_ok=True)\n",
        "\n",
        "# Load model into notebook\n",
        "with open(model_path+'/model.pkl','rb') as mp:\n",
        "    model = pickle.load(mp)"
      ],
      "outputs": [],
      "execution_count": null,
      "metadata": {}
    },
    {
      "cell_type": "code",
      "source": [
        "# Get holdout testset\n",
        "df = spark.sql(f\"SELECT * FROM {table_input}\")\n",
        "df = df.withColumn('Date', F.to_timestamp(F.col('Date'),'yyyy-MM-dd')).toPandas()\n",
        "df = df.sort_values(\"Date\")\n",
        "#display(df)"
      ],
      "outputs": [],
      "execution_count": null,
      "metadata": {}
    },
    {
      "cell_type": "markdown",
      "source": [
        "## Score model on Data\n"
      ],
      "metadata": {}
    },
    {
      "cell_type": "code",
      "source": [
        "# Generate 'forecast'\n",
        "df['predicted_value'] = model.forecast(df)[0]"
      ],
      "outputs": [],
      "execution_count": null,
      "metadata": {}
    },
    {
      "cell_type": "markdown",
      "source": [
        "## Store Results\n"
      ],
      "metadata": {}
    },
    {
      "cell_type": "code",
      "source": [
        "# Store results\n",
        "df_spark = spark.createDataFrame(df)\n",
        "df_spark.write.mode('overwrite').save(scored_data_path,format='parquet')\n",
        "df_spark.write.mode(\"overwrite\").saveAsTable('scored') "
      ],
      "outputs": [],
      "execution_count": null,
      "metadata": {}
    }
  ],
  "metadata": {
    "kernelspec": {
      "name": "synapse_pyspark",
      "display_name": "python"
    },
    "language_info": {
      "name": "python"
    },
    "microsoft": {
      "language": "python"
    },
    "nteract": {
      "version": "nteract-front-end@1.0.0"
    },
    "save_output": true,
    "synapse_widget": {
      "version": "0.1",
      "state": {}
    }
  },
  "nbformat": 4,
  "nbformat_minor": 2
}